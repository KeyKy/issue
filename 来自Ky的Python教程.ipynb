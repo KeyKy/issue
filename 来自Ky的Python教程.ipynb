{
 "cells": [
  {
   "cell_type": "markdown",
   "metadata": {},
   "source": [
    "# 来自Ky的Python教程\n",
    "\n",
    "\n",
    "## 安装（Pip工具）\n",
    "\n",
    "其实在mac或者Linux这样的unix系统下搭建编程环境更加干净和方便。但是考虑到大家应该都是windows系统，这里将会涉及windows的python安装。\n",
    "\n",
    "为什么要特别的讲安装呢，主要原因是为了保证python干净，许多其他的功能例如矩阵运算，数学绘图，网络web，GUI开发等都以第三方包的形式进行安\n",
    "\n",
    "装，并只保留比较核心标准库（sys, os, time, random, re）。\n",
    "\n",
    "在windows中可以直接安装 Anaconda https://repo.continuum.io/archive/ , 它会帮你安装python和许多的第三方包，例如矩阵包numpy等等。如果你要自\n",
    "\n",
    "己安装一些其他的包，例如图像处理的包PIL（可以百度或者谷歌关键词搜索如何使用pip安装，这里就给了一个简单的例子），打开命令行cmd运行一下命 \n",
    "\n",
    "令：\n",
    "\n",
    "<center> pip install pillow </center>\n",
    "\n",
    "安装完后，在cmd中输入python，就可以进入python的终端，我们先来简单的打印一些输出，类似于C++中的cout输出的终端窗口："
   ]
  },
  {
   "cell_type": "code",
   "execution_count": 3,
   "metadata": {
    "collapsed": false
   },
   "outputs": [
    {
     "name": "stdout",
     "output_type": "stream",
     "text": [
      "Hello World\n"
     ]
    }
   ],
   "source": [
    "print \"Hello World\""
   ]
  },
  {
   "cell_type": "markdown",
   "metadata": {},
   "source": [
    "## 字面值常量（整型，浮点型，字符型，长整数，十六进制，八进制）及其运算\n",
    "\n",
    "整数相加，整数与浮点数相加，整数除法，浮点数除法，求余，次方\n",
    "\n",
    "整数的范围是在 -2^32 ~ 2^32-1 ，超过范围用长整数\n",
    "\n",
    "十六进制0x开头，八进制0开头"
   ]
  },
  {
   "cell_type": "code",
   "execution_count": 9,
   "metadata": {
    "collapsed": false
   },
   "outputs": [
    {
     "data": {
      "text/plain": [
       "2"
      ]
     },
     "execution_count": 9,
     "metadata": {},
     "output_type": "execute_result"
    }
   ],
   "source": [
    "1+1"
   ]
  },
  {
   "cell_type": "code",
   "execution_count": 11,
   "metadata": {
    "collapsed": false
   },
   "outputs": [
    {
     "data": {
      "text/plain": [
       "2.0"
      ]
     },
     "execution_count": 11,
     "metadata": {},
     "output_type": "execute_result"
    }
   ],
   "source": [
    "1+1.0"
   ]
  },
  {
   "cell_type": "code",
   "execution_count": 12,
   "metadata": {
    "collapsed": false
   },
   "outputs": [
    {
     "data": {
      "text/plain": [
       "0"
      ]
     },
     "execution_count": 12,
     "metadata": {},
     "output_type": "execute_result"
    }
   ],
   "source": [
    "1 / 2"
   ]
  },
  {
   "cell_type": "code",
   "execution_count": 13,
   "metadata": {
    "collapsed": false
   },
   "outputs": [
    {
     "data": {
      "text/plain": [
       "0.5"
      ]
     },
     "execution_count": 13,
     "metadata": {},
     "output_type": "execute_result"
    }
   ],
   "source": [
    "1.0 / 2"
   ]
  },
  {
   "cell_type": "code",
   "execution_count": 15,
   "metadata": {
    "collapsed": false
   },
   "outputs": [
    {
     "data": {
      "text/plain": [
       "1"
      ]
     },
     "execution_count": 15,
     "metadata": {},
     "output_type": "execute_result"
    }
   ],
   "source": [
    "1 % 2"
   ]
  },
  {
   "cell_type": "code",
   "execution_count": 17,
   "metadata": {
    "collapsed": false
   },
   "outputs": [
    {
     "data": {
      "text/plain": [
       "3"
      ]
     },
     "execution_count": 17,
     "metadata": {},
     "output_type": "execute_result"
    }
   ],
   "source": [
    "9 / 3"
   ]
  },
  {
   "cell_type": "code",
   "execution_count": 18,
   "metadata": {
    "collapsed": false
   },
   "outputs": [
    {
     "data": {
      "text/plain": [
       "8"
      ]
     },
     "execution_count": 18,
     "metadata": {},
     "output_type": "execute_result"
    }
   ],
   "source": [
    "2 ** 3"
   ]
  },
  {
   "cell_type": "code",
   "execution_count": 20,
   "metadata": {
    "collapsed": false
   },
   "outputs": [
    {
     "data": {
      "text/plain": [
       "100000000000000L"
      ]
     },
     "execution_count": 20,
     "metadata": {},
     "output_type": "execute_result"
    }
   ],
   "source": [
    "100000000000000L"
   ]
  },
  {
   "cell_type": "code",
   "execution_count": 27,
   "metadata": {
    "collapsed": false
   },
   "outputs": [
    {
     "data": {
      "text/plain": [
       "2147483648L"
      ]
     },
     "execution_count": 27,
     "metadata": {},
     "output_type": "execute_result"
    }
   ],
   "source": [
    "2 ** 32 / 2"
   ]
  },
  {
   "cell_type": "code",
   "execution_count": 28,
   "metadata": {
    "collapsed": false
   },
   "outputs": [
    {
     "data": {
      "text/plain": [
       "171"
      ]
     },
     "execution_count": 28,
     "metadata": {},
     "output_type": "execute_result"
    }
   ],
   "source": [
    "0xAB"
   ]
  },
  {
   "cell_type": "markdown",
   "metadata": {},
   "source": [
    "## Python是一种解释性语言\n",
    "\n",
    "Python是一种解释性语言，也就是说它并不像C++那样先编译成字节码之后才运行，Python可以边运行边解释，所以一个变量具体是什么类型只有运行时才能\n",
    "\n",
    "确定，如果类型和运算操作要求的类型不匹配也只是在运行到该行时才会报错，代表报错之前的语句也会执行。"
   ]
  },
  {
   "cell_type": "code",
   "execution_count": 30,
   "metadata": {
    "collapsed": false
   },
   "outputs": [
    {
     "ename": "TypeError",
     "evalue": "cannot concatenate 'str' and 'int' objects",
     "output_type": "error",
     "traceback": [
      "\u001b[1;31m---------------------------------------------------------------------------\u001b[0m",
      "\u001b[1;31mTypeError\u001b[0m                                 Traceback (most recent call last)",
      "\u001b[1;32m<ipython-input-30-efc9934e257e>\u001b[0m in \u001b[0;36m<module>\u001b[1;34m()\u001b[0m\n\u001b[0;32m      1\u001b[0m \u001b[0ma\u001b[0m \u001b[1;33m=\u001b[0m \u001b[1;34m\"hello\"\u001b[0m\u001b[1;33m\u001b[0m\u001b[0m\n\u001b[0;32m      2\u001b[0m \u001b[0mb\u001b[0m \u001b[1;33m=\u001b[0m \u001b[1;36m2\u001b[0m\u001b[1;33m\u001b[0m\u001b[0m\n\u001b[1;32m----> 3\u001b[1;33m \u001b[1;32mprint\u001b[0m \u001b[0ma\u001b[0m \u001b[1;33m+\u001b[0m \u001b[0mb\u001b[0m\u001b[1;33m\u001b[0m\u001b[0m\n\u001b[0m",
      "\u001b[1;31mTypeError\u001b[0m: cannot concatenate 'str' and 'int' objects"
     ]
    }
   ],
   "source": [
    "a = \"hello\"\n",
    "b = 2\n",
    "print a + b"
   ]
  },
  {
   "cell_type": "code",
   "execution_count": 31,
   "metadata": {
    "collapsed": false
   },
   "outputs": [
    {
     "name": "stdout",
     "output_type": "stream",
     "text": [
      "hello\n"
     ]
    }
   ],
   "source": [
    "print a"
   ]
  },
  {
   "cell_type": "markdown",
   "metadata": {},
   "source": [
    "## Python自定义函数\n",
    "\n",
    "可以使用def关键字定义函数，并且Python不像C++使用大括号确定作用域，而使用2个或者4个空格代表处于相同作用域，比如我们要定义次方函数："
   ]
  },
  {
   "cell_type": "code",
   "execution_count": 33,
   "metadata": {
    "collapsed": false
   },
   "outputs": [
    {
     "name": "stdout",
     "output_type": "stream",
     "text": [
      "8\n"
     ]
    }
   ],
   "source": [
    "def my_pow(s, t): # return s**t\n",
    "    return s ** t\n",
    "\n",
    "print my_pow(2, 3)"
   ]
  },
  {
   "cell_type": "markdown",
   "metadata": {},
   "source": [
    "## Python条件语句\n",
    "\n",
    "条件语句有if, elif, else"
   ]
  },
  {
   "cell_type": "code",
   "execution_count": 35,
   "metadata": {
    "collapsed": false
   },
   "outputs": [
    {
     "name": "stdout",
     "output_type": "stream",
     "text": [
      "right password\n"
     ]
    }
   ],
   "source": [
    "pwd = '123456'\n",
    "if len(pwd) == 0: #条件不需要小括号，用冒号分隔\n",
    "    print 'please input password'\n",
    "elif pwd == '123456':\n",
    "    print 'right password'\n",
    "else:\n",
    "    print 'wrong password'"
   ]
  },
  {
   "cell_type": "code",
   "execution_count": 38,
   "metadata": {
    "collapsed": false
   },
   "outputs": [
    {
     "name": "stdout",
     "output_type": "stream",
     "text": [
      "right password\n"
     ]
    }
   ],
   "source": [
    "# 特殊用法\n",
    "arg_i = 'right password' if pwd == '123456' else 'wrong password'\n",
    "print arg_i"
   ]
  },
  {
   "cell_type": "code",
   "execution_count": 39,
   "metadata": {
    "collapsed": false
   },
   "outputs": [
    {
     "name": "stdout",
     "output_type": "stream",
     "text": [
      "right password\n"
     ]
    }
   ],
   "source": [
    "# 条件+逻辑（or, and）\n",
    "if len(pwd) != 0 and pwd == '123456':\n",
    "    print 'right password'\n",
    "else:\n",
    "    print 'wrong password'"
   ]
  },
  {
   "cell_type": "markdown",
   "metadata": {},
   "source": [
    "## Python循环语句\n",
    "\n",
    "for, while, break, continue"
   ]
  },
  {
   "cell_type": "code",
   "execution_count": 43,
   "metadata": {
    "collapsed": false
   },
   "outputs": [
    {
     "name": "stdout",
     "output_type": "stream",
     "text": [
      "[0, 1, 2, 3, 4, 5, 6, 7, 8, 9]\n",
      "45\n"
     ]
    }
   ],
   "source": [
    "args_j = 0\n",
    "print range(10)\n",
    "\n",
    "for j in range(10):\n",
    "        args_j += j\n",
    "\n",
    "print args_j"
   ]
  },
  {
   "cell_type": "code",
   "execution_count": 42,
   "metadata": {
    "collapsed": false
   },
   "outputs": [
    {
     "name": "stdout",
     "output_type": "stream",
     "text": [
      "0\n",
      "1\n",
      "2\n",
      "3\n",
      "4\n",
      "5\n"
     ]
    }
   ],
   "source": [
    "for j in range(10):\n",
    "    print j\n",
    "    if j >= 5:\n",
    "        break"
   ]
  },
  {
   "cell_type": "code",
   "execution_count": 49,
   "metadata": {
    "collapsed": false
   },
   "outputs": [
    {
     "name": "stdout",
     "output_type": "stream",
     "text": [
      "1\n",
      "3\n",
      "5\n",
      "7\n",
      "9\n"
     ]
    }
   ],
   "source": [
    "j = 0\n",
    "while j < 10:\n",
    "    j += 1\n",
    "    if j % 2 == 0:\n",
    "        continue\n",
    "    print j "
   ]
  },
  {
   "cell_type": "markdown",
   "metadata": {},
   "source": [
    "## Python容器（tuple, list, map）\n",
    "\n",
    "tuple是元组，list是个数组， map是个字典"
   ]
  },
  {
   "cell_type": "code",
   "execution_count": 60,
   "metadata": {
    "collapsed": false
   },
   "outputs": [
    {
     "name": "stdout",
     "output_type": "stream",
     "text": [
      "(1, 2, 3, 1, 2, 3)\n",
      "1\n",
      "2\n",
      "2\n"
     ]
    }
   ],
   "source": [
    "a = (1,2,3)\n",
    "b = a + a\n",
    "print b\n",
    "print a.index(2) # 查找2的索引\n",
    "print b.count(1) # 查找1有多少够个\n",
    "print a[1]"
   ]
  },
  {
   "cell_type": "code",
   "execution_count": 64,
   "metadata": {
    "collapsed": false
   },
   "outputs": [
    {
     "name": "stdout",
     "output_type": "stream",
     "text": [
      "[1, '2', 3, 4]\n",
      "[1, '2', 3]\n",
      "2\n"
     ]
    }
   ],
   "source": [
    "b = [1, '2', 3] #类型不敏感的数组，可以混杂类型\n",
    "b.append(4)\n",
    "print b\n",
    "b.pop() # 推出最后一个元素\n",
    "print b\n",
    "\n",
    "print b[1] # 索引访问"
   ]
  },
  {
   "cell_type": "code",
   "execution_count": 70,
   "metadata": {
    "collapsed": false
   },
   "outputs": [
    {
     "name": "stdout",
     "output_type": "stream",
     "text": [
      "['book_no', 'book_name']\n"
     ]
    }
   ],
   "source": [
    "c = {} # c是一个字典， key-value对\n",
    "c['book_name'] = 'harry'\n",
    "c['book_no'] = 1\n",
    "\n",
    "print c.keys()"
   ]
  },
  {
   "cell_type": "code",
   "execution_count": 75,
   "metadata": {
    "collapsed": false
   },
   "outputs": [
    {
     "name": "stdout",
     "output_type": "stream",
     "text": [
      "[('book_no', 1), ('book_name', 'harry')]\n",
      "book_no 1\n",
      "book_name harry\n"
     ]
    }
   ],
   "source": [
    "print c.items()\n",
    "\n",
    "for key, value in c.items():\n",
    "    print key, value"
   ]
  },
  {
   "cell_type": "code",
   "execution_count": 78,
   "metadata": {
    "collapsed": false
   },
   "outputs": [
    {
     "name": "stdout",
     "output_type": "stream",
     "text": [
      "<type 'dictionary-itemiterator'>\n",
      "('book_no', 1)\n"
     ]
    }
   ],
   "source": [
    "it = c.iteritems()\n",
    "print type(it)\n",
    "print it.next()"
   ]
  },
  {
   "cell_type": "code",
   "execution_count": 79,
   "metadata": {
    "collapsed": false
   },
   "outputs": [
    {
     "name": "stdout",
     "output_type": "stream",
     "text": [
      "book_no 1\n",
      "book_name harry\n"
     ]
    }
   ],
   "source": [
    "for key, value in c.iteritems():\n",
    "    print key, value"
   ]
  },
  {
   "cell_type": "markdown",
   "metadata": {},
   "source": [
    "## Python文本写入"
   ]
  },
  {
   "cell_type": "code",
   "execution_count": null,
   "metadata": {
    "collapsed": true
   },
   "outputs": [],
   "source": []
  },
  {
   "cell_type": "markdown",
   "metadata": {},
   "source": [
    "## Python包与模块"
   ]
  },
  {
   "cell_type": "code",
   "execution_count": null,
   "metadata": {
    "collapsed": true
   },
   "outputs": [],
   "source": []
  }
 ],
 "metadata": {
  "kernelspec": {
   "display_name": "Python 2",
   "language": "python",
   "name": "python2"
  },
  "language_info": {
   "codemirror_mode": {
    "name": "ipython",
    "version": 2
   },
   "file_extension": ".py",
   "mimetype": "text/x-python",
   "name": "python",
   "nbconvert_exporter": "python",
   "pygments_lexer": "ipython2",
   "version": "2.7.11"
  }
 },
 "nbformat": 4,
 "nbformat_minor": 0
}
